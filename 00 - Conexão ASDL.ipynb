{
 "cells": [
  {
   "cell_type": "code",
   "execution_count": 0,
   "metadata": {
    "application/vnd.databricks.v1+cell": {
     "cellMetadata": {
      "byteLimit": 2048000,
      "rowLimit": 10000
     },
     "inputWidgets": {},
     "nuid": "0ff7b450-cc0f-4f3f-b691-39c2a9af0d9c",
     "showTitle": true,
     "title": "Importando bibliotecas"
    }
   },
   "outputs": [],
   "source": [
    "from pyspark.sql.functions import *\n",
    "from pyspark.sql.types import *\n",
    "from delta.tables import *"
   ]
  },
  {
   "cell_type": "code",
   "execution_count": 0,
   "metadata": {
    "application/vnd.databricks.v1+cell": {
     "cellMetadata": {
      "byteLimit": 2048000,
      "rowLimit": 10000
     },
     "inputWidgets": {},
     "nuid": "ec722159-c3ed-4ba7-aa6b-e0c33cd870ce",
     "showTitle": true,
     "title": "String de conexão com o data lake"
    }
   },
   "outputs": [],
   "source": [
    "%python\n",
    "config = {\"fs.azure.account.key.adlstccfacens.blob.core.windows.net\":\\\n",
    "            dbutils.secrets.get(scope = \"scope-databricks-tcc-facens\", key = \"secret-key-datalake\")}"
   ]
  },
  {
   "cell_type": "code",
   "execution_count": 0,
   "metadata": {
    "application/vnd.databricks.v1+cell": {
     "cellMetadata": {
      "byteLimit": 2048000,
      "rowLimit": 10000
     },
     "inputWidgets": {},
     "nuid": "03a05d63-e871-4c57-a724-33e3fe4bb3d8",
     "showTitle": true,
     "title": "Lista de containers"
    }
   },
   "outputs": [],
   "source": [
    "%python\n",
    "containers = [\"01-bronze\", \"02-silver\", \"03-gold\"]"
   ]
  },
  {
   "cell_type": "code",
   "execution_count": 0,
   "metadata": {
    "application/vnd.databricks.v1+cell": {
     "cellMetadata": {
      "byteLimit": 2048000,
      "rowLimit": 10000
     },
     "inputWidgets": {},
     "nuid": "785b9f4c-6a09-4eae-be92-00b1c8cb7857",
     "showTitle": true,
     "title": "Método para criar ponto de montagem nas camadas"
    }
   },
   "outputs": [],
   "source": [
    "%python\n",
    "def mount_datalake(containers):\n",
    "    try:\n",
    "        for container in containers:\n",
    "            dbutils.fs.mount(\n",
    "                                source = f\"wasbs://{container}@adlstccfacens.blob.core.windows.net\",\n",
    "                                mount_point = f\"/mnt/{container}\",\n",
    "                                extra_configs = config\n",
    "                            )\n",
    "            print(container)\n",
    "    except ValueError as err:\n",
    "        print(err)"
   ]
  },
  {
   "cell_type": "code",
   "execution_count": 0,
   "metadata": {
    "application/vnd.databricks.v1+cell": {
     "cellMetadata": {
      "byteLimit": 2048000,
      "rowLimit": 10000
     },
     "inputWidgets": {},
     "nuid": "86df3730-823f-45f5-b54d-dc6b638f46b1",
     "showTitle": true,
     "title": "Método para desmontar ponto nas camadas"
    }
   },
   "outputs": [],
   "source": [
    "%python\n",
    "def unmount_datalake(containers):\n",
    "    try:\n",
    "        for container in containers:\n",
    "            dbutils.fs.unmount(f\"/mnt/{container}/\")\n",
    "    except ValueError as err:\n",
    "        print(err)"
   ]
  },
  {
   "cell_type": "code",
   "execution_count": 0,
   "metadata": {
    "application/vnd.databricks.v1+cell": {
     "cellMetadata": {
      "byteLimit": 2048000,
      "rowLimit": 10000
     },
     "inputWidgets": {},
     "nuid": "2f47c593-28fc-427b-88fc-cf85f1f7f290",
     "showTitle": true,
     "title": "Monta as camadas"
    }
   },
   "outputs": [
    {
     "output_type": "stream",
     "name": "stdout",
     "output_type": "stream",
     "text": [
      "01-bronze\n02-silver\n03-gold\n"
     ]
    }
   ],
   "source": [
    "%python\n",
    "mount_datalake(containers)"
   ]
  },
  {
   "cell_type": "code",
   "execution_count": 0,
   "metadata": {
    "application/vnd.databricks.v1+cell": {
     "cellMetadata": {
      "byteLimit": 2048000,
      "rowLimit": 10000
     },
     "inputWidgets": {},
     "nuid": "3f1dbf32-a17d-4de7-bef4-bb4a2ccfc6c5",
     "showTitle": true,
     "title": "Lista as camadas - dbfs"
    }
   },
   "outputs": [
    {
     "output_type": "stream",
     "name": "stdout",
     "output_type": "stream",
     "text": [
      "Out[6]: [FileInfo(path='dbfs:/mnt/01-bronze/', name='01-bronze/', size=0, modificationTime=0),\n FileInfo(path='dbfs:/mnt/02-silver/', name='02-silver/', size=0, modificationTime=0),\n FileInfo(path='dbfs:/mnt/03-gold/', name='03-gold/', size=0, modificationTime=0)]"
     ]
    }
   ],
   "source": [
    "%python\n",
    "dbutils.fs.ls(\"/mnt/\")"
   ]
  }
 ],
 "metadata": {
  "application/vnd.databricks.v1+notebook": {
   "dashboards": [],
   "language": "python",
   "notebookMetadata": {
    "mostRecentlyExecutedCommandWithImplicitDF": {
     "commandId": 2511515526723453,
     "dataframes": [
      "_sqldf"
     ]
    },
    "pythonIndentUnit": 4
   },
   "notebookName": "00 - Conexão ASDL",
   "widgets": {}
  }
 },
 "nbformat": 4,
 "nbformat_minor": 0
}
