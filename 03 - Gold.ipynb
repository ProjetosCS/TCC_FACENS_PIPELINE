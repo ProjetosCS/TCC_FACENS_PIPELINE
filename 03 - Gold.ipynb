{
 "cells": [
  {
   "cell_type": "code",
   "execution_count": 0,
   "metadata": {
    "application/vnd.databricks.v1+cell": {
     "cellMetadata": {
      "byteLimit": 2048000,
      "rowLimit": 10000
     },
     "inputWidgets": {},
     "nuid": "df3aaa45-2b3d-41fc-94db-77ab5867185a",
     "showTitle": true,
     "title": "Importando bibliotecas"
    }
   },
   "outputs": [],
   "source": [
    "from pyspark.sql.functions import *\n",
    "from pyspark.sql.types import *\n",
    "from delta.tables import *"
   ]
  },
  {
   "cell_type": "code",
   "execution_count": 0,
   "metadata": {
    "application/vnd.databricks.v1+cell": {
     "cellMetadata": {
      "byteLimit": 2048000,
      "implicitDf": true,
      "rowLimit": 10000
     },
     "inputWidgets": {},
     "nuid": "b99695b7-d945-466b-9621-78b8b41a89da",
     "showTitle": true,
     "title": "Exclui a base gold para a apresentação"
    }
   },
   "outputs": [],
   "source": [
    "%sql\n",
    "--DROP DATABASE IF EXISTS ADVENTUREWORKS_GOLD CASCADE"
   ]
  },
  {
   "cell_type": "code",
   "execution_count": 0,
   "metadata": {
    "application/vnd.databricks.v1+cell": {
     "cellMetadata": {
      "byteLimit": 2048000,
      "implicitDf": true,
      "rowLimit": 10000
     },
     "inputWidgets": {},
     "nuid": "b573d2b5-5f91-4982-8dd7-dadb15846248",
     "showTitle": true,
     "title": "Cria base gold no lake"
    }
   },
   "outputs": [
    {
     "output_type": "display_data",
     "data": {
      "text/html": [
       "<style scoped>\n",
       "  .table-result-container {\n",
       "    max-height: 300px;\n",
       "    overflow: auto;\n",
       "  }\n",
       "  table, th, td {\n",
       "    border: 1px solid black;\n",
       "    border-collapse: collapse;\n",
       "  }\n",
       "  th, td {\n",
       "    padding: 5px;\n",
       "  }\n",
       "  th {\n",
       "    text-align: left;\n",
       "  }\n",
       "</style><div class='table-result-container'><table class='table-result'><thead style='background-color: white'><tr></tr></thead><tbody></tbody></table></div>"
      ]
     },
     "metadata": {
      "application/vnd.databricks.v1+output": {
       "addedWidgets": {},
       "aggData": [],
       "aggError": "",
       "aggOverflow": false,
       "aggSchema": [],
       "aggSeriesLimitReached": false,
       "aggType": "",
       "arguments": {},
       "columnCustomDisplayInfos": {},
       "data": [],
       "datasetInfos": [],
       "dbfsResultPath": null,
       "isJsonSchema": true,
       "metadata": {},
       "overflow": false,
       "plotOptions": {
        "customPlotOptions": {},
        "displayType": "table",
        "pivotAggregation": null,
        "pivotColumns": null,
        "xColumns": null,
        "yColumns": null
       },
       "removedWidgets": [],
       "schema": [],
       "type": "table"
      }
     },
     "output_type": "display_data"
    }
   ],
   "source": [
    "%sql\n",
    "CREATE DATABASE IF NOT EXISTS ADVENTUREWORKS_GOLD\n",
    "LOCATION '/mnt/03-gold/ADVENTUREWORKS/'"
   ]
  },
  {
   "cell_type": "code",
   "execution_count": 0,
   "metadata": {
    "application/vnd.databricks.v1+cell": {
     "cellMetadata": {
      "byteLimit": 2048000,
      "implicitDf": true,
      "rowLimit": 10000
     },
     "inputWidgets": {},
     "nuid": "dbc9863b-0564-41b0-b1e6-26d1f56c3a96",
     "showTitle": true,
     "title": "Cria a tabela Fato_Vendas_AdventureWorks"
    }
   },
   "outputs": [],
   "source": [
    "from pyspark.sql.functions import col, format_number\n",
    "\n",
    "# Consulta SQL\n",
    "query = \"\"\"\n",
    "SELECT\n",
    "    C.CustomerID,\n",
    "    CONCAT(C.FirstName, ' ', C.LastName) AS CustomerName,\n",
    "    A.City,\n",
    "    A.StateProvince,\n",
    "    A.CountryRegion,\n",
    "    P.ProductID,\n",
    "    P.Name AS ProductName,\n",
    "    O.SalesOrderID AS OrderID,\n",
    "    O.OrderDate,\n",
    "    D.OrderQty AS Quantity,\n",
    "    cast(D.LineTotal as decimal(18,2)) AS TotalPrice\n",
    "FROM adventureworks_silver.tb_Customer C\n",
    "JOIN adventureworks_silver.tb_CustomerAddress CA ON C.CustomerID = CA.CustomerID\n",
    "JOIN adventureworks_silver.tb_Address A ON CA.AddressID = A.AddressID\n",
    "JOIN adventureworks_silver.tb_SalesOrderHeader O ON C.CustomerID = O.CustomerID\n",
    "JOIN adventureworks_silver.tb_SalesOrderDetail D ON O.SalesOrderID = D.SalesOrderID\n",
    "JOIN adventureworks_silver.tb_Product P ON D.ProductID = P.ProductID;\n",
    "\"\"\"\n",
    "\n",
    "# Executa a consulta SQL e carrega o resultado em um DataFrame\n",
    "df_fato_vendas_adventureworks = spark.sql(query)\n",
    "\n",
    "#Atualiza a tabela Fato_Vendas_AdventureWorks na camada Gold do Delta Lake\n",
    "df_fato_vendas_adventureworks.write\\\n",
    "    .mode(\"overwrite\")\\\n",
    "    .option(\"overwriteSchema\",\"true\")\\\n",
    "    .saveAsTable(\"ADVENTUREWORKS_GOLD.fato_vendas_adventureworks\")"
   ]
  },
  {
   "cell_type": "code",
   "execution_count": 0,
   "metadata": {
    "application/vnd.databricks.v1+cell": {
     "cellMetadata": {
      "byteLimit": 2048000,
      "rowLimit": 10000
     },
     "inputWidgets": {},
     "nuid": "757de3e7-e680-4c91-b685-866de0d7c91d",
     "showTitle": true,
     "title": "Gera arquivo Fato_Vendas_AdventureWorks.csv"
    }
   },
   "outputs": [],
   "source": [
    "import os\n",
    "\n",
    "output_path = f\"dbfs:/mnt/03-gold/ADVENTUREWORKS/fato_vendas_adventureworks_csv\"\n",
    "output_folder = \"/dbfs/mnt/03-gold/ADVENTUREWORKS/fato_vendas_adventureworks_csv\"\n",
    "output_filename = \"fato_vendas_adventureworks.csv\"\n",
    "\n",
    "# Crie o diretório de saída, se ele não existir\n",
    "if not os.path.exists(output_folder):\n",
    "    os.makedirs(output_folder)\n",
    "\n",
    "# Reduz o DataFrame a uma única partição e, em seguida, salva-o como um arquivo CSV\n",
    "df_fato_vendas_adventureworks.coalesce(1).write \\\n",
    "    .mode(\"overwrite\") \\\n",
    "    .option(\"header\", \"true\") \\\n",
    "    .option(\"delimiter\", \"|\") \\\n",
    "    .csv(output_path)\n",
    "\n",
    "# Lista o conteúdo do diretório de saída\n",
    "files = os.listdir(output_folder)\n",
    "\n",
    "# Encontra o arquivo gerado (pode haver apenas um arquivo no diretório)\n",
    "for file in files:\n",
    "    if file.startswith(\"part-\") and file.endswith(\".csv\"):\n",
    "        # Renomeie o arquivo gerado\n",
    "        os.rename(os.path.join(output_folder, file), os.path.join(output_folder, output_filename))\n",
    "    elif not file.endswith(\".csv\"):\n",
    "        os.remove(os.path.join(output_folder, file))\n"
   ]
  }
 ],
 "metadata": {
  "application/vnd.databricks.v1+notebook": {
   "dashboards": [],
   "language": "python",
   "notebookMetadata": {
    "mostRecentlyExecutedCommandWithImplicitDF": {
     "commandId": 2710523347003523,
     "dataframes": [
      "_sqldf"
     ]
    },
    "pythonIndentUnit": 4
   },
   "notebookName": "03 - Gold",
   "widgets": {}
  }
 },
 "nbformat": 4,
 "nbformat_minor": 0
}
