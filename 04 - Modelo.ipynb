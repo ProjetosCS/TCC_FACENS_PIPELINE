{
 "cells": [
  {
   "cell_type": "code",
   "execution_count": 0,
   "metadata": {
    "application/vnd.databricks.v1+cell": {
     "cellMetadata": {
      "byteLimit": 2048000,
      "rowLimit": 10000
     },
     "inputWidgets": {},
     "nuid": "332569da-a0b8-49fd-8b0b-587d61031fce",
     "showTitle": true,
     "title": "Importando bibliotecas"
    }
   },
   "outputs": [],
   "source": [
    "import pandas as pd\n",
    "from sklearn.model_selection import train_test_split\n",
    "from sklearn.ensemble import RandomForestRegressor\n",
    "from sklearn.metrics import mean_squared_error\n"
   ]
  },
  {
   "cell_type": "code",
   "execution_count": 0,
   "metadata": {
    "application/vnd.databricks.v1+cell": {
     "cellMetadata": {
      "byteLimit": 2048000,
      "rowLimit": 10000
     },
     "inputWidgets": {},
     "nuid": "320a17aa-8cc1-4093-9364-8089b91188be",
     "showTitle": true,
     "title": "Lendo o DataSet"
    }
   },
   "outputs": [
    {
     "output_type": "display_data",
     "data": {
      "text/html": [
       "<div>\n",
       "<style scoped>\n",
       "    .dataframe tbody tr th:only-of-type {\n",
       "        vertical-align: middle;\n",
       "    }\n",
       "\n",
       "    .dataframe tbody tr th {\n",
       "        vertical-align: top;\n",
       "    }\n",
       "\n",
       "    .dataframe thead th {\n",
       "        text-align: right;\n",
       "    }\n",
       "</style>\n",
       "<table border=\"1\" class=\"dataframe\">\n",
       "  <thead>\n",
       "    <tr style=\"text-align: right;\">\n",
       "      <th></th>\n",
       "      <th>CustomerID</th>\n",
       "      <th>CustomerName</th>\n",
       "      <th>City</th>\n",
       "      <th>StateProvince</th>\n",
       "      <th>CountryRegion</th>\n",
       "      <th>ProductID</th>\n",
       "      <th>ProductName</th>\n",
       "      <th>OrderID</th>\n",
       "      <th>OrderDate</th>\n",
       "      <th>Quantity</th>\n",
       "      <th>TotalPrice</th>\n",
       "    </tr>\n",
       "  </thead>\n",
       "  <tbody>\n",
       "    <tr>\n",
       "      <th>0</th>\n",
       "      <td>29485</td>\n",
       "      <td>Catherine Abel</td>\n",
       "      <td>Van Nuys</td>\n",
       "      <td>California</td>\n",
       "      <td>United States</td>\n",
       "      <td>707</td>\n",
       "      <td>Sport-100 Helmet, Red</td>\n",
       "      <td>71782</td>\n",
       "      <td>2008-06-01T00:00:00.000Z</td>\n",
       "      <td>3</td>\n",
       "      <td>62.98</td>\n",
       "    </tr>\n",
       "    <tr>\n",
       "      <th>1</th>\n",
       "      <td>29485</td>\n",
       "      <td>Catherine Abel</td>\n",
       "      <td>Van Nuys</td>\n",
       "      <td>California</td>\n",
       "      <td>United States</td>\n",
       "      <td>711</td>\n",
       "      <td>Sport-100 Helmet, Blue</td>\n",
       "      <td>71782</td>\n",
       "      <td>2008-06-01T00:00:00.000Z</td>\n",
       "      <td>6</td>\n",
       "      <td>125.96</td>\n",
       "    </tr>\n",
       "    <tr>\n",
       "      <th>2</th>\n",
       "      <td>29485</td>\n",
       "      <td>Catherine Abel</td>\n",
       "      <td>Van Nuys</td>\n",
       "      <td>California</td>\n",
       "      <td>United States</td>\n",
       "      <td>880</td>\n",
       "      <td>Hydration Pack - 70 oz.</td>\n",
       "      <td>71782</td>\n",
       "      <td>2008-06-01T00:00:00.000Z</td>\n",
       "      <td>9</td>\n",
       "      <td>296.95</td>\n",
       "    </tr>\n",
       "    <tr>\n",
       "      <th>3</th>\n",
       "      <td>29485</td>\n",
       "      <td>Catherine Abel</td>\n",
       "      <td>Van Nuys</td>\n",
       "      <td>California</td>\n",
       "      <td>United States</td>\n",
       "      <td>865</td>\n",
       "      <td>Classic Vest, M</td>\n",
       "      <td>71782</td>\n",
       "      <td>2008-06-01T00:00:00.000Z</td>\n",
       "      <td>4</td>\n",
       "      <td>152.40</td>\n",
       "    </tr>\n",
       "    <tr>\n",
       "      <th>4</th>\n",
       "      <td>29485</td>\n",
       "      <td>Catherine Abel</td>\n",
       "      <td>Van Nuys</td>\n",
       "      <td>California</td>\n",
       "      <td>United States</td>\n",
       "      <td>859</td>\n",
       "      <td>Half-Finger Gloves, M</td>\n",
       "      <td>71782</td>\n",
       "      <td>2008-06-01T00:00:00.000Z</td>\n",
       "      <td>1</td>\n",
       "      <td>14.69</td>\n",
       "    </tr>\n",
       "    <tr>\n",
       "      <th>...</th>\n",
       "      <td>...</td>\n",
       "      <td>...</td>\n",
       "      <td>...</td>\n",
       "      <td>...</td>\n",
       "      <td>...</td>\n",
       "      <td>...</td>\n",
       "      <td>...</td>\n",
       "      <td>...</td>\n",
       "      <td>...</td>\n",
       "      <td>...</td>\n",
       "      <td>...</td>\n",
       "    </tr>\n",
       "    <tr>\n",
       "      <th>537</th>\n",
       "      <td>30113</td>\n",
       "      <td>Raja Venugopal</td>\n",
       "      <td>West Sussex</td>\n",
       "      <td>England</td>\n",
       "      <td>United Kingdom</td>\n",
       "      <td>990</td>\n",
       "      <td>Mountain-500 Black, 42</td>\n",
       "      <td>71780</td>\n",
       "      <td>2008-06-01T00:00:00.000Z</td>\n",
       "      <td>1</td>\n",
       "      <td>323.99</td>\n",
       "    </tr>\n",
       "    <tr>\n",
       "      <th>538</th>\n",
       "      <td>30113</td>\n",
       "      <td>Raja Venugopal</td>\n",
       "      <td>West Sussex</td>\n",
       "      <td>England</td>\n",
       "      <td>United Kingdom</td>\n",
       "      <td>748</td>\n",
       "      <td>HL Mountain Frame - Silver, 38</td>\n",
       "      <td>71780</td>\n",
       "      <td>2008-06-01T00:00:00.000Z</td>\n",
       "      <td>2</td>\n",
       "      <td>1637.40</td>\n",
       "    </tr>\n",
       "    <tr>\n",
       "      <th>539</th>\n",
       "      <td>30113</td>\n",
       "      <td>Raja Venugopal</td>\n",
       "      <td>West Sussex</td>\n",
       "      <td>England</td>\n",
       "      <td>United Kingdom</td>\n",
       "      <td>988</td>\n",
       "      <td>Mountain-500 Silver, 52</td>\n",
       "      <td>71780</td>\n",
       "      <td>2008-06-01T00:00:00.000Z</td>\n",
       "      <td>6</td>\n",
       "      <td>406.79</td>\n",
       "    </tr>\n",
       "    <tr>\n",
       "      <th>540</th>\n",
       "      <td>30113</td>\n",
       "      <td>Raja Venugopal</td>\n",
       "      <td>West Sussex</td>\n",
       "      <td>England</td>\n",
       "      <td>United Kingdom</td>\n",
       "      <td>983</td>\n",
       "      <td>Mountain-400-W Silver, 46</td>\n",
       "      <td>71780</td>\n",
       "      <td>2008-06-01T00:00:00.000Z</td>\n",
       "      <td>2</td>\n",
       "      <td>923.39</td>\n",
       "    </tr>\n",
       "    <tr>\n",
       "      <th>541</th>\n",
       "      <td>30113</td>\n",
       "      <td>Raja Venugopal</td>\n",
       "      <td>West Sussex</td>\n",
       "      <td>England</td>\n",
       "      <td>United Kingdom</td>\n",
       "      <td>905</td>\n",
       "      <td>ML Mountain Frame-W - Silver, 42</td>\n",
       "      <td>71780</td>\n",
       "      <td>2008-06-01T00:00:00.000Z</td>\n",
       "      <td>4</td>\n",
       "      <td>873.82</td>\n",
       "    </tr>\n",
       "  </tbody>\n",
       "</table>\n",
       "<p>542 rows × 11 columns</p>\n",
       "</div>"
      ]
     },
     "metadata": {
      "application/vnd.databricks.v1+output": {
       "addedWidgets": {},
       "arguments": {},
       "data": "<div>\n<style scoped>\n    .dataframe tbody tr th:only-of-type {\n        vertical-align: middle;\n    }\n\n    .dataframe tbody tr th {\n        vertical-align: top;\n    }\n\n    .dataframe thead th {\n        text-align: right;\n    }\n</style>\n<table border=\"1\" class=\"dataframe\">\n  <thead>\n    <tr style=\"text-align: right;\">\n      <th></th>\n      <th>CustomerID</th>\n      <th>CustomerName</th>\n      <th>City</th>\n      <th>StateProvince</th>\n      <th>CountryRegion</th>\n      <th>ProductID</th>\n      <th>ProductName</th>\n      <th>OrderID</th>\n      <th>OrderDate</th>\n      <th>Quantity</th>\n      <th>TotalPrice</th>\n    </tr>\n  </thead>\n  <tbody>\n    <tr>\n      <th>0</th>\n      <td>29485</td>\n      <td>Catherine Abel</td>\n      <td>Van Nuys</td>\n      <td>California</td>\n      <td>United States</td>\n      <td>707</td>\n      <td>Sport-100 Helmet, Red</td>\n      <td>71782</td>\n      <td>2008-06-01T00:00:00.000Z</td>\n      <td>3</td>\n      <td>62.98</td>\n    </tr>\n    <tr>\n      <th>1</th>\n      <td>29485</td>\n      <td>Catherine Abel</td>\n      <td>Van Nuys</td>\n      <td>California</td>\n      <td>United States</td>\n      <td>711</td>\n      <td>Sport-100 Helmet, Blue</td>\n      <td>71782</td>\n      <td>2008-06-01T00:00:00.000Z</td>\n      <td>6</td>\n      <td>125.96</td>\n    </tr>\n    <tr>\n      <th>2</th>\n      <td>29485</td>\n      <td>Catherine Abel</td>\n      <td>Van Nuys</td>\n      <td>California</td>\n      <td>United States</td>\n      <td>880</td>\n      <td>Hydration Pack - 70 oz.</td>\n      <td>71782</td>\n      <td>2008-06-01T00:00:00.000Z</td>\n      <td>9</td>\n      <td>296.95</td>\n    </tr>\n    <tr>\n      <th>3</th>\n      <td>29485</td>\n      <td>Catherine Abel</td>\n      <td>Van Nuys</td>\n      <td>California</td>\n      <td>United States</td>\n      <td>865</td>\n      <td>Classic Vest, M</td>\n      <td>71782</td>\n      <td>2008-06-01T00:00:00.000Z</td>\n      <td>4</td>\n      <td>152.40</td>\n    </tr>\n    <tr>\n      <th>4</th>\n      <td>29485</td>\n      <td>Catherine Abel</td>\n      <td>Van Nuys</td>\n      <td>California</td>\n      <td>United States</td>\n      <td>859</td>\n      <td>Half-Finger Gloves, M</td>\n      <td>71782</td>\n      <td>2008-06-01T00:00:00.000Z</td>\n      <td>1</td>\n      <td>14.69</td>\n    </tr>\n    <tr>\n      <th>...</th>\n      <td>...</td>\n      <td>...</td>\n      <td>...</td>\n      <td>...</td>\n      <td>...</td>\n      <td>...</td>\n      <td>...</td>\n      <td>...</td>\n      <td>...</td>\n      <td>...</td>\n      <td>...</td>\n    </tr>\n    <tr>\n      <th>537</th>\n      <td>30113</td>\n      <td>Raja Venugopal</td>\n      <td>West Sussex</td>\n      <td>England</td>\n      <td>United Kingdom</td>\n      <td>990</td>\n      <td>Mountain-500 Black, 42</td>\n      <td>71780</td>\n      <td>2008-06-01T00:00:00.000Z</td>\n      <td>1</td>\n      <td>323.99</td>\n    </tr>\n    <tr>\n      <th>538</th>\n      <td>30113</td>\n      <td>Raja Venugopal</td>\n      <td>West Sussex</td>\n      <td>England</td>\n      <td>United Kingdom</td>\n      <td>748</td>\n      <td>HL Mountain Frame - Silver, 38</td>\n      <td>71780</td>\n      <td>2008-06-01T00:00:00.000Z</td>\n      <td>2</td>\n      <td>1637.40</td>\n    </tr>\n    <tr>\n      <th>539</th>\n      <td>30113</td>\n      <td>Raja Venugopal</td>\n      <td>West Sussex</td>\n      <td>England</td>\n      <td>United Kingdom</td>\n      <td>988</td>\n      <td>Mountain-500 Silver, 52</td>\n      <td>71780</td>\n      <td>2008-06-01T00:00:00.000Z</td>\n      <td>6</td>\n      <td>406.79</td>\n    </tr>\n    <tr>\n      <th>540</th>\n      <td>30113</td>\n      <td>Raja Venugopal</td>\n      <td>West Sussex</td>\n      <td>England</td>\n      <td>United Kingdom</td>\n      <td>983</td>\n      <td>Mountain-400-W Silver, 46</td>\n      <td>71780</td>\n      <td>2008-06-01T00:00:00.000Z</td>\n      <td>2</td>\n      <td>923.39</td>\n    </tr>\n    <tr>\n      <th>541</th>\n      <td>30113</td>\n      <td>Raja Venugopal</td>\n      <td>West Sussex</td>\n      <td>England</td>\n      <td>United Kingdom</td>\n      <td>905</td>\n      <td>ML Mountain Frame-W - Silver, 42</td>\n      <td>71780</td>\n      <td>2008-06-01T00:00:00.000Z</td>\n      <td>4</td>\n      <td>873.82</td>\n    </tr>\n  </tbody>\n</table>\n<p>542 rows × 11 columns</p>\n</div>",
       "datasetInfos": [],
       "metadata": {},
       "removedWidgets": [],
       "textData": null,
       "type": "htmlSandbox"
      }
     },
     "output_type": "display_data"
    }
   ],
   "source": [
    "# Especifica o caminho para o arquivo CSV no DBFS\n",
    "csv_path = \"/dbfs/mnt/03-gold/ADVENTUREWORKS/fato_vendas_adventureworks_csv/fato_vendas_adventureworks.csv\"\n",
    "\n",
    "# Lê o arquivo CSV diretamente do DBFS em um DataFrame Pandas\n",
    "df = pd.read_csv(csv_path, sep=\"|\")\n",
    "\n",
    "df"
   ]
  },
  {
   "cell_type": "code",
   "execution_count": 0,
   "metadata": {
    "application/vnd.databricks.v1+cell": {
     "cellMetadata": {
      "byteLimit": 2048000,
      "rowLimit": 10000
     },
     "inputWidgets": {},
     "nuid": "a1a0477e-4344-4eef-b62d-b12cc09bb63d",
     "showTitle": true,
     "title": "Codificando as variáveis categóricas em números"
    }
   },
   "outputs": [],
   "source": [
    "from sklearn.preprocessing import LabelEncoder\n",
    "\n",
    "le_city = LabelEncoder()\n",
    "df['City_encoded'] = le_city.fit_transform(df['City'])\n",
    "\n",
    "le_product = LabelEncoder()\n",
    "df['ProductName_encoded'] = le_product.fit_transform(df['ProductName'])\n"
   ]
  },
  {
   "cell_type": "code",
   "execution_count": 0,
   "metadata": {
    "application/vnd.databricks.v1+cell": {
     "cellMetadata": {
      "byteLimit": 2048000,
      "rowLimit": 10000
     },
     "inputWidgets": {},
     "nuid": "bbf48c02-6f16-42dc-a3dd-4fab6206ec19",
     "showTitle": true,
     "title": "Dividindo os dados em treino e teste"
    }
   },
   "outputs": [],
   "source": [
    "X = df[['City_encoded', 'ProductName_encoded']]\n",
    "y = df['TotalPrice']\n",
    "\n",
    "X_train, X_test, y_train, y_test = train_test_split(X, y, test_size=0.2, random_state=42)\n"
   ]
  },
  {
   "cell_type": "code",
   "execution_count": 0,
   "metadata": {
    "application/vnd.databricks.v1+cell": {
     "cellMetadata": {
      "byteLimit": 2048000,
      "rowLimit": 10000
     },
     "inputWidgets": {},
     "nuid": "b63b8017-f6da-4f58-93f7-ac1f12e294d4",
     "showTitle": true,
     "title": "Treinando o modelo com o RandomForestRegressor"
    }
   },
   "outputs": [
    {
     "output_type": "stream",
     "name": "stdout",
     "output_type": "stream",
     "text": [
      "Out[70]: RandomForestRegressor(random_state=42)"
     ]
    }
   ],
   "source": [
    "model = RandomForestRegressor(n_estimators=100, random_state=42)\n",
    "model.fit(X_train, y_train)\n"
   ]
  },
  {
   "cell_type": "code",
   "execution_count": 0,
   "metadata": {
    "application/vnd.databricks.v1+cell": {
     "cellMetadata": {
      "byteLimit": 2048000,
      "rowLimit": 10000
     },
     "inputWidgets": {},
     "nuid": "53a57bb7-29f8-4447-a155-380a470d0ae9",
     "showTitle": true,
     "title": "Realizando as previsões usando o modelo"
    }
   },
   "outputs": [],
   "source": [
    "y_pred = model.predict(X_test)\n"
   ]
  },
  {
   "cell_type": "code",
   "execution_count": 0,
   "metadata": {
    "application/vnd.databricks.v1+cell": {
     "cellMetadata": {
      "byteLimit": 2048000,
      "rowLimit": 10000
     },
     "inputWidgets": {},
     "nuid": "b0acddcd-d50f-4874-8e51-b2342d7c7aec",
     "showTitle": true,
     "title": "Avaliando o desempenho do modelo"
    }
   },
   "outputs": [
    {
     "output_type": "stream",
     "name": "stdout",
     "output_type": "stream",
     "text": [
      "Mean Squared Error: 898349.7557082959\n"
     ]
    }
   ],
   "source": [
    "mse = mean_squared_error(y_test, y_pred)\n",
    "print(f'Mean Squared Error: {mse}')\n"
   ]
  },
  {
   "cell_type": "code",
   "execution_count": 0,
   "metadata": {
    "application/vnd.databricks.v1+cell": {
     "cellMetadata": {
      "byteLimit": 2048000,
      "rowLimit": 10000
     },
     "inputWidgets": {},
     "nuid": "fc3a3b44-dcf8-4ee3-ae91-d04ca8ee9ec8",
     "showTitle": true,
     "title": "Exibindo em um gráfico"
    }
   },
   "outputs": [
    {
     "output_type": "display_data",
     "data": {
      "image/png": "[encoded data removed]"
     },
     "metadata": {
      "application/vnd.databricks.v1+output": {
       "addedWidgets": {},
       "arguments": {},
       "data": "data:image/png;base64,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\n",
       "datasetInfos": [],
       "metadata": {},
       "removedWidgets": [],
       "type": "image"
      }
     },
     "output_type": "display_data"
    }
   ],
   "source": [
    "import matplotlib.pyplot as plt\n",
    "\n",
    "plt.scatter(y_test, y_pred, label=\"Pontos de Dados\")\n",
    "plt.plot([y_test.min(), y_test.max()], [y_test.min(), y_test.max()], 'k--', lw=2, label=\"Linha Diagonal\")\n",
    "plt.xlabel(\"Valores Reais\")\n",
    "plt.ylabel(\"Previsões\")\n",
    "plt.title(\"Gráfico de Dispersão: Valores Reais vs. Previsões\")\n",
    "plt.legend()\n",
    "plt.show()\n",
    "\n"
   ]
  }
 ],
 "metadata": {
  "application/vnd.databricks.v1+notebook": {
   "dashboards": [],
   "language": "python",
   "notebookMetadata": {
    "mostRecentlyExecutedCommandWithImplicitDF": {
     "commandId": 1107980431554525,
     "dataframes": [
      "_sqldf"
     ]
    },
    "pythonIndentUnit": 4
   },
   "notebookName": "04 - Modelo",
   "widgets": {}
  }
 },
 "nbformat": 4,
 "nbformat_minor": 0
}
