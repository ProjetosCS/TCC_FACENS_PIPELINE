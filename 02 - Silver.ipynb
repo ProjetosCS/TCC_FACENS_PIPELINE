{
 "cells": [
  {
   "cell_type": "code",
   "execution_count": 0,
   "metadata": {
    "application/vnd.databricks.v1+cell": {
     "cellMetadata": {
      "byteLimit": 2048000,
      "rowLimit": 10000
     },
     "inputWidgets": {},
     "nuid": "8b18cc3c-1e5b-4b33-92a7-0692f1597fa6",
     "showTitle": true,
     "title": "Importando bibliotecas"
    }
   },
   "outputs": [],
   "source": [
    "from pyspark.sql.functions import *\n",
    "from pyspark.sql.types import *\n",
    "from delta.tables import *"
   ]
  },
  {
   "cell_type": "code",
   "execution_count": 0,
   "metadata": {
    "application/vnd.databricks.v1+cell": {
     "cellMetadata": {
      "byteLimit": 2048000,
      "implicitDf": true,
      "rowLimit": 10000
     },
     "inputWidgets": {},
     "nuid": "d51e4a2a-a912-4c41-b701-6f6fad9e99f8",
     "showTitle": true,
     "title": "Exclui a base silver para a apresentação"
    }
   },
   "outputs": [
    {
     "output_type": "display_data",
     "data": {
      "text/html": [
       "<style scoped>\n",
       "  .table-result-container {\n",
       "    max-height: 300px;\n",
       "    overflow: auto;\n",
       "  }\n",
       "  table, th, td {\n",
       "    border: 1px solid black;\n",
       "    border-collapse: collapse;\n",
       "  }\n",
       "  th, td {\n",
       "    padding: 5px;\n",
       "  }\n",
       "  th {\n",
       "    text-align: left;\n",
       "  }\n",
       "</style><div class='table-result-container'><table class='table-result'><thead style='background-color: white'><tr></tr></thead><tbody></tbody></table></div>"
      ]
     },
     "metadata": {
      "application/vnd.databricks.v1+output": {
       "addedWidgets": {},
       "aggData": [],
       "aggError": "",
       "aggOverflow": false,
       "aggSchema": [],
       "aggSeriesLimitReached": false,
       "aggType": "",
       "arguments": {},
       "columnCustomDisplayInfos": {},
       "data": [],
       "datasetInfos": [],
       "dbfsResultPath": null,
       "isJsonSchema": true,
       "metadata": {},
       "overflow": false,
       "plotOptions": {
        "customPlotOptions": {},
        "displayType": "table",
        "pivotAggregation": null,
        "pivotColumns": null,
        "xColumns": null,
        "yColumns": null
       },
       "removedWidgets": [],
       "schema": [],
       "type": "table"
      }
     },
     "output_type": "display_data"
    }
   ],
   "source": [
    "%sql\n",
    "--DROP DATABASE IF EXISTS ADVENTUREWORKS_SILVER CASCADE"
   ]
  },
  {
   "cell_type": "code",
   "execution_count": 0,
   "metadata": {
    "application/vnd.databricks.v1+cell": {
     "cellMetadata": {
      "byteLimit": 2048000,
      "implicitDf": true,
      "rowLimit": 10000
     },
     "inputWidgets": {},
     "nuid": "e632da4e-b1fd-4d86-b4bb-bba31151888b",
     "showTitle": true,
     "title": "Cria base silver no lake"
    }
   },
   "outputs": [
    {
     "output_type": "display_data",
     "data": {
      "text/html": [
       "<style scoped>\n",
       "  .table-result-container {\n",
       "    max-height: 300px;\n",
       "    overflow: auto;\n",
       "  }\n",
       "  table, th, td {\n",
       "    border: 1px solid black;\n",
       "    border-collapse: collapse;\n",
       "  }\n",
       "  th, td {\n",
       "    padding: 5px;\n",
       "  }\n",
       "  th {\n",
       "    text-align: left;\n",
       "  }\n",
       "</style><div class='table-result-container'><table class='table-result'><thead style='background-color: white'><tr></tr></thead><tbody></tbody></table></div>"
      ]
     },
     "metadata": {
      "application/vnd.databricks.v1+output": {
       "addedWidgets": {},
       "aggData": [],
       "aggError": "",
       "aggOverflow": false,
       "aggSchema": [],
       "aggSeriesLimitReached": false,
       "aggType": "",
       "arguments": {},
       "columnCustomDisplayInfos": {},
       "data": [],
       "datasetInfos": [],
       "dbfsResultPath": null,
       "isJsonSchema": true,
       "metadata": {},
       "overflow": false,
       "plotOptions": {
        "customPlotOptions": {},
        "displayType": "table",
        "pivotAggregation": null,
        "pivotColumns": null,
        "xColumns": null,
        "yColumns": null
       },
       "removedWidgets": [],
       "schema": [],
       "type": "table"
      }
     },
     "output_type": "display_data"
    }
   ],
   "source": [
    "%sql\n",
    "CREATE DATABASE IF NOT EXISTS ADVENTUREWORKS_SILVER\n",
    "LOCATION '/mnt/02-silver/ADVENTUREWORKS/'"
   ]
  },
  {
   "cell_type": "code",
   "execution_count": 0,
   "metadata": {
    "application/vnd.databricks.v1+cell": {
     "cellMetadata": {
      "byteLimit": 2048000,
      "rowLimit": 10000
     },
     "inputWidgets": {},
     "nuid": "b9679882-eba2-4115-b88d-3ec7bf98c0aa",
     "showTitle": true,
     "title": "Lê arquivo .csv mais recente na camada bronze e cria tabelas temporárias"
    }
   },
   "outputs": [],
   "source": [
    "%python\n",
    "\n",
    "# Lista todos os diretórios dentro do container 01-bronze\n",
    "dirs = [f.path for f in dbutils.fs.ls(\"/mnt/01-bronze/ADVENTUREWORKS\") if f.isDir()]\n",
    "dataframes = {}\n",
    "\n",
    "# Para cada diretório encontrado, obtém o arquivo mais recente e armazena o caminho na variável correspondente\n",
    "for d in dirs:\n",
    "    # Obtém o nome do diretório\n",
    "    dir_name = d.split(\"/\")[4]\n",
    "\n",
    "    # Obtém o caminho do arquivo mais recente dentro do diretório\n",
    "    files = dbutils.fs.ls(d)\n",
    "    latest_file = sorted(files, key=lambda f: f.modificationTime)[-1]\n",
    "    file_path = latest_file.path\n",
    "    \n",
    "    # Armazena o caminho da origem na variável correspondente\n",
    "    globals()[f\"bronze_path_{dir_name}\"] = file_path\n",
    "\n",
    "    #Lê dados do arquivo mais recente\n",
    "    df = spark.read.parquet(globals()[f\"bronze_path_{dir_name}\"])\n",
    "\n",
    "    #Cria um dataframe para cada arquivo\n",
    "    df_name = \"DF_\" + dir_name\n",
    "    dataframes[df_name] = df\n",
    "\n",
    "    #Atualiza as tabelas na camada Silver do Delta Lake\n",
    "    dataframes[df_name].write\\\n",
    "    .mode(\"overwrite\")\\\n",
    "    .option(\"overwriteSchema\",\"true\")\\\n",
    "    .saveAsTable(\"ADVENTUREWORKS_SILVER.TB_\"+dir_name)\n"
   ]
  }
 ],
 "metadata": {
  "application/vnd.databricks.v1+notebook": {
   "dashboards": [],
   "language": "python",
   "notebookMetadata": {
    "mostRecentlyExecutedCommandWithImplicitDF": {
     "commandId": 2710523347003512,
     "dataframes": [
      "_sqldf"
     ]
    },
    "pythonIndentUnit": 4
   },
   "notebookName": "02 - Silver",
   "widgets": {}
  }
 },
 "nbformat": 4,
 "nbformat_minor": 0
}
